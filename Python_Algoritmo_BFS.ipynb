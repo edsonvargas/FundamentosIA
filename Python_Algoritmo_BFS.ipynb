{
  "nbformat": 4,
  "nbformat_minor": 0,
  "metadata": {
    "colab": {
      "name": "Python Algoritmo BFS.ipynb",
      "provenance": [],
      "collapsed_sections": []
    },
    "kernelspec": {
      "name": "python3",
      "display_name": "Python 3"
    },
    "language_info": {
      "name": "python"
    }
  },
  "cells": [
    {
      "cell_type": "markdown",
      "metadata": {
        "id": "iZB2AonLN-1K"
      },
      "source": [
        "\n",
        "#ALGORITMO BFS\n",
        "\n"
      ]
    },
    {
      "cell_type": "code",
      "metadata": {
        "id": "xbDMk7blNq3L"
      },
      "source": [
        "grafo = {\"S\": [\"A\",\"D\"],\n",
        "            \"D\": [\"S\",\"A\",\"E\"],\n",
        "            \"A\": [\"S\",\"D\", \"B\"],\n",
        "            \"E\": [\"D\",\"B\",\"F\"],\n",
        "            \"B\": [\"A\",\"E\",\"C\"],\n",
        "            \"F\": [\"E\",\"G\"],\n",
        "              \"C\": [\"B\"],\n",
        "              \"G\": [\"F\"]\n",
        "\t\t}"
      ],
      "execution_count": null,
      "outputs": []
    },
    {
      "cell_type": "code",
      "metadata": {
        "id": "hoUgUjfoOR2d"
      },
      "source": [
        "def  BFS(grafo, node, nodefin):\n",
        "  cola = []      \n",
        "  visitados = []  \n",
        "  visitados.append(node)\n",
        "  cola.append(node)\n",
        "\n",
        "  while cola:\n",
        "    print(\"cola ->\",cola)\n",
        "    s = cola.pop(0) \n",
        "    if s == nodefin: \n",
        "      break;\n",
        "      \n",
        "    for nodo in grafo[s]:\n",
        "      if nodo not in visitados:\n",
        "        visitados.append(nodo)\n",
        "        cola.append(nodo)\n"
      ],
      "execution_count": 44,
      "outputs": []
    },
    {
      "cell_type": "code",
      "metadata": {
        "colab": {
          "base_uri": "https://localhost:8080/"
        },
        "id": "ChY7R674OUeD",
        "outputId": "2610946c-7026-4b72-b987-127a0da96cfa"
      },
      "source": [
        "# Búsqueda de nodo desde el nodo S al nodo G\n",
        "BFS(grafo, 'S', 'G')"
      ],
      "execution_count": 45,
      "outputs": [
        {
          "output_type": "stream",
          "name": "stdout",
          "text": [
            "cola -> ['S']\n",
            "cola -> ['A', 'D']\n",
            "cola -> ['D', 'B']\n",
            "cola -> ['B', 'E']\n",
            "cola -> ['E', 'C']\n",
            "cola -> ['C', 'F']\n",
            "cola -> ['F']\n",
            "cola -> ['G']\n"
          ]
        }
      ]
    },
    {
      "cell_type": "code",
      "metadata": {
        "id": "lhMGh80OOU7U"
      },
      "source": [
        ""
      ],
      "execution_count": null,
      "outputs": []
    }
  ]
}