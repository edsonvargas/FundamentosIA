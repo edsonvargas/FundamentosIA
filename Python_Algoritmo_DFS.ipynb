{
  "nbformat": 4,
  "nbformat_minor": 0,
  "metadata": {
    "colab": {
      "name": "Python Algoritmo DFS.ipynb",
      "provenance": [],
      "collapsed_sections": []
    },
    "kernelspec": {
      "name": "python3",
      "display_name": "Python 3"
    },
    "language_info": {
      "name": "python"
    }
  },
  "cells": [
    {
      "cell_type": "markdown",
      "metadata": {
        "id": "6uNBLfIecSG1"
      },
      "source": [
        "# ALGORITMO DFS"
      ]
    },
    {
      "cell_type": "code",
      "metadata": {
        "id": "zh5D5ANIcRPN"
      },
      "source": [
        "grafo = {\"S\": [\"A\",\"D\"],\n",
        "            \"D\": [\"S\",\"A\",\"E\"],\n",
        "            \"A\": [\"S\",\"D\", \"B\"],\n",
        "            \"E\": [\"D\",\"B\",\"F\"],\n",
        "            \"B\": [\"A\",\"E\",\"C\"],\n",
        "            \"F\": [\"E\",\"G\"],\n",
        "              \"C\": [\"B\"],\n",
        "              \"G\": [\"F\"]\n",
        "\t\t}"
      ],
      "execution_count": 1,
      "outputs": []
    },
    {
      "cell_type": "code",
      "metadata": {
        "id": "5EvfNvHrcYmA"
      },
      "source": [
        "from queue import LifoQueue\n",
        "\n",
        "def  DFS(grafo, node, nodefin):\n",
        "  stack = LifoQueue()      \n",
        "  visitados = []  \n",
        "  visitados.append(node)\n",
        "  stack.put(node)\n",
        "\n",
        "  while stack:\n",
        "    print(\"stack ->\", list(stack.queue))\n",
        "    s = stack.get(0) \n",
        "    if s == nodefin: \n",
        "      break;\n",
        "      \n",
        "    for nodo in grafo[s]:\n",
        "      if nodo not in visitados:\n",
        "        visitados.append(nodo)\n",
        "        stack.put(nodo)"
      ],
      "execution_count": 13,
      "outputs": []
    },
    {
      "cell_type": "code",
      "metadata": {
        "colab": {
          "base_uri": "https://localhost:8080/"
        },
        "id": "Jrdx3f1acZas",
        "outputId": "08bddcaf-317f-4f46-e3cc-9c7cfa2d845e"
      },
      "source": [
        "# Búsqueda de nodo desde el nodo S al nodo G\n",
        "DFS(grafo, 'S', 'G')"
      ],
      "execution_count": 14,
      "outputs": [
        {
          "output_type": "stream",
          "name": "stdout",
          "text": [
            "stack -> ['S']\n",
            "stack -> ['A', 'D']\n",
            "stack -> ['A', 'E']\n",
            "stack -> ['A', 'B', 'F']\n",
            "stack -> ['A', 'B', 'G']\n"
          ]
        }
      ]
    },
    {
      "cell_type": "code",
      "metadata": {
        "id": "uabpo9IDcpvm"
      },
      "source": [
        ""
      ],
      "execution_count": null,
      "outputs": []
    }
  ]
}